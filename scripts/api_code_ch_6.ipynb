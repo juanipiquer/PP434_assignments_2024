{
 "cells": [
  {
   "cell_type": "markdown",
   "metadata": {},
   "source": [
    "Code to extract gdp pc from the world bank api "
   ]
  },
  {
   "cell_type": "code",
   "execution_count": 1,
   "metadata": {},
   "outputs": [],
   "source": [
    "import wbgapi as wb\n",
    "import pandas as pd"
   ]
  },
  {
   "cell_type": "code",
   "execution_count": 2,
   "metadata": {},
   "outputs": [],
   "source": [
    "full_gdp_pc_df = wb.data.DataFrame('NY.GDP.PCAP.PP.KD', labels=True).reset_index()\n",
    "full_pop_df = wb.data.DataFrame('SP.POP.TOTL', labels=False).reset_index()"
   ]
  },
  {
   "cell_type": "code",
   "execution_count": 3,
   "metadata": {},
   "outputs": [],
   "source": [
    "economies_to_drop = [\n",
    "    'AFE', 'AFW', 'ARB', 'CSS', 'CEB', 'EAR', 'EAS', 'EAP', 'TEA', 'EMU', 'ECS', \n",
    "    'ECA', 'TEC', 'EUU', 'FCS', 'HPC', 'HIC', 'IBD', 'IBT', 'IDB', 'IDX', 'IDA', \n",
    "    'LTE', 'LCN', 'LAC', 'TLA', 'LDC', 'LMY', 'LIC', 'LMC', 'MEA', 'MNA', 'TMN', \n",
    "    'MIC', 'NAC', 'OED', 'OSS', 'PSS', 'PST', 'PRE', 'SST', 'SAS', 'TSA', 'SSF', \n",
    "    'SSA', 'TSS', 'UMC', 'WLD'\n",
    "]\n",
    "\n",
    "# Filter both dataframes to exclude the unwanted economies\n",
    "full_gdp_pc_df_clean = full_gdp_pc_df[~full_gdp_pc_df['economy'].isin(economies_to_drop)]\n",
    "full_pop_df_clean = full_pop_df[~full_pop_df['economy'].isin(economies_to_drop)]\n",
    "\n",
    "# Sort the population dataframe by 'YR2023' in descending order\n",
    "full_pop_df_sorted_clean = full_pop_df_clean.sort_values(by='YR2023', ascending=False)\n",
    "\n",
    "top_9_countries_clean = full_pop_df_sorted_clean['economy'].head(9).tolist()\n",
    "\n",
    "# Filter the GDP dataframe for the top 9 countries\n",
    "gdp_pc_top_9_clean = full_gdp_pc_df_clean[full_gdp_pc_df_clean['economy'].isin(top_9_countries_clean)]\n",
    "\n",
    "# Drop columns with any missing values\n",
    "gdp_pc_top_9_clean = gdp_pc_top_9_clean.dropna(axis=1, how='any')\n",
    "\n",
    "# Melt the cleaned dataframe to reshape it\n",
    "gdp_pc_melted_clean = gdp_pc_top_9_clean.melt(id_vars=['economy', 'Country'], \n",
    "                                               var_name='year', \n",
    "                                               value_name='gdp_pc')\n",
    "\n",
    "gdp_pc_melted_clean['year'] = gdp_pc_melted_clean['year'].str[2:].astype(int)\n"
   ]
  },
  {
   "cell_type": "code",
   "execution_count": 5,
   "metadata": {},
   "outputs": [],
   "source": [
    "# Convert the DataFrame into a dictionary for JSON storage\n",
    "gdp_pc_melted_clean_json = gdp_pc_melted_clean.to_dict(orient='records')\n",
    "\n",
    "# Now `gdp_pc_melted_clean_json` contains the data in a format that can be used in Vega-Lite"
   ]
  },
  {
   "cell_type": "code",
   "execution_count": 8,
   "metadata": {},
   "outputs": [
    {
     "name": "stdout",
     "output_type": "stream",
     "text": [
      "Vega-Lite JSON file created successfully: gdp_pc_melted_clean_chart.json\n"
     ]
    }
   ],
   "source": [
    "import json\n",
    "\n",
    "# Convert DataFrame to records for JSON embedding\n",
    "data_records = gdp_pc_melted_clean.to_dict(orient='records')\n",
    "\n",
    "# Define Vega-Lite JSON specification\n",
    "vega_lite_spec = {\n",
    "    \"$schema\": \"https://vega.github.io/schema/vega-lite/v5.json\",\n",
    "    \"data\": {\n",
    "        \"values\": data_records  # Embed data directly\n",
    "    },\n",
    "      \"mark\": \"line\",\n",
    "  \"encoding\": {\n",
    "    \"x\": {\n",
    "    \"field\": \"year\",\n",
    "    \"type\": \"quantitative\",\n",
    "    \"title\": \"Year\"\n",
    "    },\n",
    "    \"y\": {\n",
    "    \"field\": \"gdp_pc\",\n",
    "    \"type\": \"quantitative\",\n",
    "    \"title\": \"GDP per Capita\"\n",
    "    },\n",
    "    \"color\": {\n",
    "    \"field\": \"Country\",\n",
    "    \"type\": \"nominal\",\n",
    "    \"title\": \"Country\"\n",
    "    },\n",
    "    \"facet\": {\n",
    "    \"field\": \"Country\",\n",
    "    \"type\": \"nominal\",\n",
    "    \"columns\": 3\n",
    "}\n",
    "    }\n",
    "}\n",
    "\n",
    "# Save the Vega-Lite JSON specification to a file\n",
    "with open('chart_6.json', 'w') as f:\n",
    "    json.dump(vega_lite_spec, f, indent=2)\n",
    "\n",
    "print(\"Vega-Lite JSON file created successfully: gdp_pc_melted_clean_chart.json\")"
   ]
  }
 ],
 "metadata": {
  "kernelspec": {
   "display_name": "base",
   "language": "python",
   "name": "python3"
  },
  "language_info": {
   "codemirror_mode": {
    "name": "ipython",
    "version": 3
   },
   "file_extension": ".py",
   "mimetype": "text/x-python",
   "name": "python",
   "nbconvert_exporter": "python",
   "pygments_lexer": "ipython3",
   "version": "3.12.7"
  }
 },
 "nbformat": 4,
 "nbformat_minor": 2
}
