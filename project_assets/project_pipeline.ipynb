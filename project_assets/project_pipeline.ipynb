{
 "cells": [
  {
   "cell_type": "code",
   "execution_count": 1,
   "metadata": {},
   "outputs": [],
   "source": [
    "import pandas as pd\n",
    "import numpy as np\n",
    "import os"
   ]
  },
  {
   "cell_type": "code",
   "execution_count": 19,
   "metadata": {},
   "outputs": [
    {
     "name": "stdout",
     "output_type": "stream",
     "text": [
      "   code    region         comuna     pop         poors  prop_poors  \\\n",
      "0  1101  Tarapacá        Iquique  229674  41966.566241    0.182722   \n",
      "1  1107  Tarapacá  Alto Hospicio  138527  45162.442981    0.326019   \n",
      "2  1401  Tarapacá   Pozo Almonte   18290   4563.395313    0.249502   \n",
      "3  1402  Tarapacá         Camiña    1380    307.626999    0.222918   \n",
      "4  1403  Tarapacá       Colchane    1575    472.752772    0.300160   \n",
      "\n",
      "   prop_poors_lower  prop_poors_upper  \n",
      "0          0.162429          0.203015  \n",
      "1          0.294776          0.357263  \n",
      "2          0.199334          0.299671  \n",
      "3          0.137766          0.308071  \n",
      "4          0.187495          0.412826  \n"
     ]
    }
   ],
   "source": [
    "#settings \n",
    "# Get the current working directory\n",
    "current_dir = os.getcwd()\n",
    "\n",
    "# Get the parent directory\n",
    "parent_dir = os.path.dirname(current_dir)\n",
    "\n",
    "# Construct the file path\n",
    "file_path = os.path.join(parent_dir, 'project_data', 'pov_index.xlsx')\n",
    "\n",
    "# Read the Excel file into a DataFrame\n",
    "df_pov_index = pd.read_excel(file_path)\n",
    "\n",
    "print(df_pov_index.head())"
   ]
  }
 ],
 "metadata": {
  "kernelspec": {
   "display_name": "base",
   "language": "python",
   "name": "python3"
  },
  "language_info": {
   "codemirror_mode": {
    "name": "ipython",
    "version": 3
   },
   "file_extension": ".py",
   "mimetype": "text/x-python",
   "name": "python",
   "nbconvert_exporter": "python",
   "pygments_lexer": "ipython3",
   "version": "3.12.7"
  }
 },
 "nbformat": 4,
 "nbformat_minor": 2
}
